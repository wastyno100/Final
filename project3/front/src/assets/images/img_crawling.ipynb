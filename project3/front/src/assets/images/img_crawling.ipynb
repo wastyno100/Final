{
 "cells": [
  {
   "cell_type": "markdown",
   "id": "75080e64",
   "metadata": {},
   "source": [
    "### 변수명 정의\n",
    "- driver : 웹(크롬)\n",
    "- mall_click : 좌측 쇼핑몰 탭\n",
    "- best_click : 베스트 상품(상단 베스트상품 탭은 내용이 계속 변경됨....)\n",
    "- name : 상품내용\n",
    "- num : 번호\n",
    "- price : 가격\n",
    "- star : 별점\n",
    "- data_list : 데이터 리스트\n",
    "- best_df : 데이터 프레임"
   ]
  },
  {
   "cell_type": "code",
   "execution_count": 1,
   "id": "21fc91f2",
   "metadata": {
    "ExecuteTime": {
     "end_time": "2024-03-13T12:34:13.646486Z",
     "start_time": "2024-03-13T12:34:13.640016Z"
    }
   },
   "outputs": [],
   "source": [
    "from selenium import webdriver\n",
    "import time\n",
    "from bs4 import BeautifulSoup\n",
    "import pandas as pd\n",
    "import re\n",
    "import pandas as pd\n",
    "import dload\n",
    "import urllib.request\n",
    "from bs4 import BeautifulSoup\n",
    "\n",
    "import os"
   ]
  },
  {
   "cell_type": "code",
   "execution_count": 2,
   "id": "b269c98d",
   "metadata": {
    "ExecuteTime": {
     "end_time": "2024-03-13T12:34:41.332988Z",
     "start_time": "2024-03-13T12:34:14.775643Z"
    }
   },
   "outputs": [],
   "source": [
    "#드라이버 지정=크롬\n",
    "driver=webdriver.Chrome()\n",
    "\n",
    "#목표 홈페이지 열기\n",
    "driver.get(\"https://tpirates.com/\") #홈페이지 열기\n",
    "time.sleep(5) #로딩시간 5초(에러발생시 시간 늘려서 재실행해보기)\n",
    "\n",
    "\n",
    "\n",
    "#좌측 쇼핑몰탭 클릭\n",
    "mall_click = driver.find_elements(\"css selector\",\"#wrap > div.sc-eBMEME.cXOJzI > div.search-form > div.sc-dhKdcB.sc-cWSHoV.fsycso.dqpzTc >div:nth-child(3) > a\")[0]\n",
    "mall_click.click() #클릭\n",
    "time.sleep(5) #로딩시간 3초(에러발생시 시간 늘려서 재실행해보기)\n",
    "\n"
   ]
  },
  {
   "cell_type": "code",
   "execution_count": 3,
   "id": "d2798013",
   "metadata": {
    "ExecuteTime": {
     "end_time": "2024-03-13T12:37:47.263074Z",
     "start_time": "2024-03-13T12:34:59.272003Z"
    }
   },
   "outputs": [
    {
     "ename": "KeyboardInterrupt",
     "evalue": "",
     "output_type": "error",
     "traceback": [
      "\u001b[1;31m---------------------------------------------------------------------------\u001b[0m",
      "\u001b[1;31mKeyboardInterrupt\u001b[0m                         Traceback (most recent call last)",
      "Cell \u001b[1;32mIn[3], line 7\u001b[0m\n\u001b[0;32m      4\u001b[0m \u001b[38;5;28;01mif\u001b[39;00m i \u001b[38;5;241m%\u001b[39m \u001b[38;5;241m10\u001b[39m \u001b[38;5;241m==\u001b[39m \u001b[38;5;241m1\u001b[39m \u001b[38;5;129;01mand\u001b[39;00m i \u001b[38;5;241m>\u001b[39m \u001b[38;5;241m1\u001b[39m:  \n\u001b[0;32m      6\u001b[0m     driver\u001b[38;5;241m.\u001b[39mexecute_script(\u001b[38;5;124m\"\u001b[39m\u001b[38;5;124mwindow.scrollTo(0,document.body.scrollHeight);\u001b[39m\u001b[38;5;124m\"\u001b[39m)  \n\u001b[1;32m----> 7\u001b[0m     time\u001b[38;5;241m.\u001b[39msleep(\u001b[38;5;241m7\u001b[39m)  \u001b[38;5;66;03m# 10초 대기\u001b[39;00m\n\u001b[0;32m      9\u001b[0m html \u001b[38;5;241m=\u001b[39m driver\u001b[38;5;241m.\u001b[39mpage_source\n\u001b[0;32m     10\u001b[0m soup \u001b[38;5;241m=\u001b[39m BeautifulSoup(html, \u001b[38;5;124m'\u001b[39m\u001b[38;5;124mhtml.parser\u001b[39m\u001b[38;5;124m'\u001b[39m)\n",
      "\u001b[1;31mKeyboardInterrupt\u001b[0m: "
     ]
    }
   ],
   "source": [
    "\n",
    "\n",
    "for i in range(1, 200):\n",
    "    \n",
    "    # 10의 배수인 경우 스크롤 내리고 10초 대기\n",
    "    if i % 10 == 1 and i > 1:  \n",
    "       \n",
    "        driver.execute_script(\"window.scrollTo(0,document.body.scrollHeight);\")  \n",
    "        time.sleep(7)  # 10초 대기\n",
    "        \n",
    "    html = driver.page_source\n",
    "    soup = BeautifulSoup(html, 'html.parser')\n",
    "\n",
    "\n",
    "img_src  = soup.select(\"ul.sc-xwuxA.isTdUO > li > div > div >img\")\n",
    "\n",
    "\n",
    "img_list = [] \n",
    "for j in img_src :\n",
    "    img_src1 = j['src']\n",
    "    img_list.append(img_src1)\n",
    "\n",
    "print(img_list)\n",
    "   "
   ]
  },
  {
   "cell_type": "code",
   "execution_count": 18,
   "id": "64b9c157",
   "metadata": {
    "ExecuteTime": {
     "end_time": "2024-03-13T12:38:54.695840Z",
     "start_time": "2024-03-13T12:38:54.684979Z"
    }
   },
   "outputs": [
    {
     "name": "stdout",
     "output_type": "stream",
     "text": [
      "[['광어', 25000, '2024-03-21'], ['우럭', 25000, '2024-03-21'], ['참돔', 30000, '2024-03-21'], ['연어', 5000, '2024-03-21'], ['돌돔', 60000, '2024-03-21'], ['감성돔', 50000, '2024-03-21'], ['쥐돔', 60000, '2024-03-21'], ['강담돔', 100000, '2024-03-21'], ['동갈돗돔', 50000, '2024-03-21'], ['벵에돔', 50000, '2024-03-21'], ['장대', 25000, '2024-03-21'], ['긴꼬리벵에돔', 50000, '2024-03-21'], ['방어', 30000, '2024-03-21'], ['잿방어', 50000, '2024-03-21'], ['혹돔', 50000, '2024-03-21'], ['쥐노래미', 30000, '2024-03-21'], ['농어', 25000, '2024-03-21'], ['라운드폼파노', 50000, '2024-03-21'], ['가숭어', 30000, '2024-03-21'], ['보리숭어', 20000, '2024-03-21'], ['바다송어', 5000, '2024-03-21'], ['강도다리', 25000, '2024-03-21'], ['돌가자미', 30000, '2024-03-21'], ['줄가자미', 50000, '2024-03-21'], ['도다리', 50000, '2024-03-21'], ['문치가자미', 25000, '2024-03-21'], ['참가자미', 25000, '2024-03-21'], ['홍가자미', 6670, '2024-03-21'], ['범가자미', 50000, '2024-03-21'], ['찰가자미', 70000, '2024-03-21'], ['물가자미', 1000, '2024-03-21'], ['도치', 25000, '2024-03-21'], ['전어', 2000, '2024-03-21'], ['쥐치', 35000, '2024-03-21'], ['말쥐치', 30000, '2024-03-21'], ['청어', 2500, '2024-03-21'], ['줄무늬전갱이', 60000, '2024-03-21'], ['고등어', 20000, '2024-03-21'], ['부시리', 18000, '2024-03-21'], ['능성어', 60000, '2024-03-21'], ['붉바리', 100000, '2024-03-21'], ['자바리', 150000, '2024-03-21'], ['대왕자바리', 60000, '2024-03-21'], ['참복', 60000, '2024-03-21'], ['밀복', 50000, '2024-03-21'], ['황금광어', 45000, '2024-03-21'], ['터봇', 40000, '2024-03-21'], ['황새치', 40000, '2024-03-21'], ['참다랑어', 35000, '2024-03-21'], ['눈다랑어', 30000, '2024-03-21'], ['개상어', 5000, '2024-03-21'], ['가오리', 25000, '2024-03-21'], ['양미리', 350, '2024-03-21'], ['실치', 25000, '2024-03-21'], ['괴도라치', 60000, '2024-03-21'], ['등가시치', 30000, '2024-03-21'], ['벤자리', 70000, '2024-03-21'], ['볼락', 40000, '2024-03-21'], ['삼세기', 30000, '2024-03-21'], ['용치놀래기', 30000, '2024-03-21'], ['열기', 50000, '2024-03-21'], ['장갱이', 40000, '2024-03-21'], ['빨간횟대', 30000, '2024-03-21'], ['붕장어', 30000, '2024-03-21'], ['먹장어', 38000, '2024-03-21'], ['민물장어', 40000, '2024-03-21'], ['메기', 12000, '2024-03-21'], ['자라', 28000, '2024-03-21'], ['가물치', 17000, '2024-03-21'], ['잉어', 8000, '2024-03-21'], ['참붕어', 9000, '2024-03-21'], ['벌레문치', 70000, '2024-03-21'], ['망둥어', 35000, '2024-03-21'], ['점성어', 24000, '2024-03-21'], ['민어', 20000, '2024-03-21'], ['큰민어', 35000, '2024-03-21'], ['물메기', 40000, '2024-03-21'], ['자리돔', 12000, '2024-03-21'], ['임연수어', 10000, '2024-03-21'], ['성대', 25000, '2024-03-21']]\n"
     ]
    },
    {
     "data": {
      "text/plain": [
       "80"
      ]
     },
     "execution_count": 18,
     "metadata": {},
     "output_type": "execute_result"
    }
   ],
   "source": [
    "file_no = 1\n",
    "for j in range(0,len(img_list)) :\n",
    "    \n",
    "    try :\n",
    "        urllib.request.urlretrieve(img_list[j],str(file_no)+'.jpg')\n",
    "    except :\n",
    "        continue\n",
    "        \n",
    "    file_no += 1\n",
    "    time.sleep(0.5)\n"
   ]
  },
  {
   "cell_type": "code",
   "execution_count": 27,
   "id": "a8d9a90b",
   "metadata": {
    "ExecuteTime": {
     "end_time": "2024-03-13T12:38:57.519151Z",
     "start_time": "2024-03-13T12:38:56.754111Z"
    }
   },
   "outputs": [
    {
     "name": "stdout",
     "output_type": "stream",
     "text": [
      "<class 'MySQLdb.connections.Connection'>\n"
     ]
    }
   ],
   "source": [
    "\n"
   ]
  }
 ],
 "metadata": {
  "kernelspec": {
   "display_name": "Python 3 (ipykernel)",
   "language": "python",
   "name": "python3"
  },
  "language_info": {
   "codemirror_mode": {
    "name": "ipython",
    "version": 3
   },
   "file_extension": ".py",
   "mimetype": "text/x-python",
   "name": "python",
   "nbconvert_exporter": "python",
   "pygments_lexer": "ipython3",
   "version": "3.11.8"
  },
  "varInspector": {
   "cols": {
    "lenName": 16,
    "lenType": 16,
    "lenVar": 40
   },
   "kernels_config": {
    "python": {
     "delete_cmd_postfix": "",
     "delete_cmd_prefix": "del ",
     "library": "var_list.py",
     "varRefreshCmd": "print(var_dic_list())"
    },
    "r": {
     "delete_cmd_postfix": ") ",
     "delete_cmd_prefix": "rm(",
     "library": "var_list.r",
     "varRefreshCmd": "cat(var_dic_list()) "
    }
   },
   "types_to_exclude": [
    "module",
    "function",
    "builtin_function_or_method",
    "instance",
    "_Feature"
   ],
   "window_display": false
  }
 },
 "nbformat": 4,
 "nbformat_minor": 5
}
